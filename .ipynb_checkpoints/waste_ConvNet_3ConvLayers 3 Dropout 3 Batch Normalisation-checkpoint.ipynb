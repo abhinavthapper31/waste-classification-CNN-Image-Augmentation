{
 "cells": [
  {
   "cell_type": "code",
   "execution_count": 1,
   "metadata": {},
   "outputs": [],
   "source": [
    "import tensorflow as tf\n",
    "from tensorflow.keras.models import Sequential\n",
    "from tensorflow.keras.layers import Conv2D, Flatten, Activation\n",
    "from tensorflow.keras.layers import MaxPooling2D, Dropout\n",
    "from tensorflow.keras.layers import Dense\n",
    "from tensorflow.keras.callbacks import TensorBoard\n",
    "import os"
   ]
  },
  {
   "cell_type": "code",
   "execution_count": 2,
   "metadata": {},
   "outputs": [],
   "source": [
    "NAME = \"waste_ConvNet_3ConvLayers 3 Dropout 3 Batch Normalisation\"\n",
    "\n",
    "tboard_log_dir = os.path.join(\"logs\",NAME)\n",
    "tensorboard = TensorBoard(log_dir = tboard_log_dir)"
   ]
  },
  {
   "cell_type": "code",
   "execution_count": 3,
   "metadata": {},
   "outputs": [],
   "source": [
    "model = Sequential()"
   ]
  },
  {
   "cell_type": "code",
   "execution_count": 4,
   "metadata": {},
   "outputs": [],
   "source": [
    "model.add(Conv2D(32,(3,3), input_shape = (64,64,3)))\n",
    "model.add(Activation(\"relu\"))\n",
    "model.add(BatchNormalization())\n",
    "model.add(MaxPooling2D(pool_size = (2,2)))\n",
    "model.add(Dropout(0.20))"
   ]
  },
  {
   "cell_type": "code",
   "execution_count": 5,
   "metadata": {},
   "outputs": [],
   "source": [
    "model.add(Conv2D(32,(3,3)))\n",
    "model.add(Activation(\"relu\"))\n",
    "model.add(BatchNormalization())\n",
    "model.add(MaxPooling2D(pool_size = (2,2)))\n",
    "model.add(Dropout(0.20))"
   ]
  },
  {
   "cell_type": "code",
   "execution_count": 6,
   "metadata": {},
   "outputs": [],
   "source": [
    "model.add(Conv2D(32,(3,3)))\n",
    "model.add(Activation(\"relu\"))\n",
    "model.add(BatchNormalization())\n",
    "model.add(MaxPooling2D(pool_size = (2,2)))\n",
    "model.add(Dropout(0.20))"
   ]
  },
  {
   "cell_type": "code",
   "execution_count": 7,
   "metadata": {},
   "outputs": [],
   "source": [
    "model.add(Flatten())"
   ]
  },
  {
   "cell_type": "code",
   "execution_count": 9,
   "metadata": {},
   "outputs": [],
   "source": [
    "model.add(Dense(1))\n",
    "model.add(Activation(\"sigmoid\"))"
   ]
  },
  {
   "cell_type": "code",
   "execution_count": 10,
   "metadata": {},
   "outputs": [],
   "source": [
    "model.compile(loss = 'binary_crossentropy', optimizer = 'adam', metrics = ['accuracy'])"
   ]
  },
  {
   "cell_type": "code",
   "execution_count": 11,
   "metadata": {},
   "outputs": [
    {
     "name": "stderr",
     "output_type": "stream",
     "text": [
      "Using TensorFlow backend.\n"
     ]
    }
   ],
   "source": [
    "from keras.preprocessing.image import ImageDataGenerator\n",
    "\n",
    "train_datagen = ImageDataGenerator(rescale = 1./255,\n",
    "                                   shear_range = 0.2,\n",
    "                                   zoom_range = 0.2,\n",
    "                                   horizontal_flip = True)\n",
    "\n",
    "test_datagen = ImageDataGenerator(rescale = 1./255)"
   ]
  },
  {
   "cell_type": "code",
   "execution_count": 12,
   "metadata": {},
   "outputs": [
    {
     "name": "stdout",
     "output_type": "stream",
     "text": [
      "Found 22564 images belonging to 2 classes.\n",
      "Found 2513 images belonging to 2 classes.\n"
     ]
    }
   ],
   "source": [
    "training_set = train_datagen.flow_from_directory('DATASET/TRAIN',\n",
    "                                                 target_size = (64, 64),\n",
    "                                                 batch_size = 32,\n",
    "                                                 class_mode = 'binary')\n",
    "\n",
    "test_set = test_datagen.flow_from_directory('DATASET/TEST',\n",
    "                                            target_size = (64, 64),\n",
    "                                            batch_size = 32,\n",
    "                                            class_mode = 'binary')\n"
   ]
  },
  {
   "cell_type": "code",
   "execution_count": 13,
   "metadata": {},
   "outputs": [
    {
     "name": "stdout",
     "output_type": "stream",
     "text": [
      "WARNING:tensorflow:From <ipython-input-13-1f9197a6d53b>:6: Model.fit_generator (from tensorflow.python.keras.engine.training) is deprecated and will be removed in a future version.\n",
      "Instructions for updating:\n",
      "Please use Model.fit, which supports generators.\n",
      "WARNING:tensorflow:sample_weight modes were coerced from\n",
      "  ...\n",
      "    to  \n",
      "  ['...']\n",
      "WARNING:tensorflow:sample_weight modes were coerced from\n",
      "  ...\n",
      "    to  \n",
      "  ['...']\n",
      "Train for 705 steps, validate for 79 steps\n",
      "Epoch 1/15\n",
      "705/705 [==============================] - 140s 199ms/step - loss: 0.4454 - accuracy: 0.7957 - val_loss: 0.3199 - val_accuracy: 0.8754\n",
      "Epoch 2/15\n",
      "705/705 [==============================] - 150s 212ms/step - loss: 0.3901 - accuracy: 0.8313 - val_loss: 0.2872 - val_accuracy: 0.8894\n",
      "Epoch 3/15\n",
      "705/705 [==============================] - 145s 206ms/step - loss: 0.3651 - accuracy: 0.8423 - val_loss: 0.3132 - val_accuracy: 0.8878\n",
      "Epoch 4/15\n",
      "705/705 [==============================] - 173s 245ms/step - loss: 0.3440 - accuracy: 0.8553 - val_loss: 0.3135 - val_accuracy: 0.8731\n",
      "Epoch 5/15\n",
      "705/705 [==============================] - 134s 190ms/step - loss: 0.3308 - accuracy: 0.8600 - val_loss: 0.2665 - val_accuracy: 0.8914\n",
      "Epoch 6/15\n",
      "705/705 [==============================] - 135s 191ms/step - loss: 0.3231 - accuracy: 0.8645 - val_loss: 0.2711 - val_accuracy: 0.9033\n",
      "Epoch 7/15\n",
      "705/705 [==============================] - 133s 188ms/step - loss: 0.3128 - accuracy: 0.8692 - val_loss: 0.3066 - val_accuracy: 0.8750\n",
      "Epoch 8/15\n",
      "705/705 [==============================] - 133s 189ms/step - loss: 0.3047 - accuracy: 0.8745 - val_loss: 0.2781 - val_accuracy: 0.8942\n",
      "Epoch 9/15\n",
      "705/705 [==============================] - 137s 194ms/step - loss: 0.2995 - accuracy: 0.8761 - val_loss: 0.2703 - val_accuracy: 0.9005\n",
      "Epoch 10/15\n",
      "705/705 [==============================] - 133s 188ms/step - loss: 0.2914 - accuracy: 0.8831 - val_loss: 0.2673 - val_accuracy: 0.8973\n",
      "Epoch 11/15\n",
      "705/705 [==============================] - 133s 188ms/step - loss: 0.2817 - accuracy: 0.8841 - val_loss: 0.3118 - val_accuracy: 0.8834\n",
      "Epoch 12/15\n",
      "705/705 [==============================] - 133s 189ms/step - loss: 0.2737 - accuracy: 0.8867 - val_loss: 0.2860 - val_accuracy: 0.8922\n",
      "Epoch 13/15\n",
      "705/705 [==============================] - 138s 196ms/step - loss: 0.2726 - accuracy: 0.8870 - val_loss: 0.2951 - val_accuracy: 0.8882\n",
      "Epoch 14/15\n",
      "705/705 [==============================] - 135s 192ms/step - loss: 0.2658 - accuracy: 0.8913 - val_loss: 0.2965 - val_accuracy: 0.8910\n",
      "Epoch 15/15\n",
      "705/705 [==============================] - 133s 188ms/step - loss: 0.2604 - accuracy: 0.8941 - val_loss: 0.3514 - val_accuracy: 0.8663\n"
     ]
    }
   ],
   "source": [
    "history = model.fit_generator(training_set,\n",
    "                    steps_per_epoch = 705 ,\n",
    "                    epochs = 15,\n",
    "                    validation_data = test_set,\n",
    "                    validation_steps = 79,\n",
    "                    callbacks = [tensorboard])"
   ]
  },
  {
   "cell_type": "code",
   "execution_count": 31,
   "metadata": {},
   "outputs": [],
   "source": [
    "#history = model.fit_generator(training_set,\n",
    "#                    steps_per_epoch = 705 ,\n",
    "#                    epochs = 10,\n",
    " ##                   validation_data = test_set,\n",
    "  #                  validation_steps = 79,\n",
    "    #                callbacks = [tensorboard])"
   ]
  },
  {
   "cell_type": "code",
   "execution_count": null,
   "metadata": {},
   "outputs": [],
   "source": []
  }
 ],
 "metadata": {
  "kernelspec": {
   "display_name": "Python 3",
   "language": "python",
   "name": "python3"
  },
  "language_info": {
   "codemirror_mode": {
    "name": "ipython",
    "version": 3
   },
   "file_extension": ".py",
   "mimetype": "text/x-python",
   "name": "python",
   "nbconvert_exporter": "python",
   "pygments_lexer": "ipython3",
   "version": "3.7.1"
  }
 },
 "nbformat": 4,
 "nbformat_minor": 2
}
