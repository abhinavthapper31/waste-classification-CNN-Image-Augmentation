{
 "cells": [
  {
   "cell_type": "code",
   "execution_count": 1,
   "metadata": {},
   "outputs": [],
   "source": [
    "import tensorflow as tf\n",
    "from tensorflow.keras.models import Sequential\n",
    "from tensorflow.keras.layers import Conv2D, Flatten, Activation\n",
    "from tensorflow.keras.layers import MaxPooling2D, Dropout\n",
    "from tensorflow.keras.layers import Dense\n",
    "from tensorflow.keras.callbacks import TensorBoard\n",
    "import os"
   ]
  },
  {
   "cell_type": "code",
   "execution_count": 2,
   "metadata": {},
   "outputs": [],
   "source": [
    "NAME = \"waste_ConvNet_3ConvLayers2Dropout\"\n",
    "\n",
    "tboard_log_dir = os.path.join(\"logs\",NAME)\n",
    "tensorboard = TensorBoard(log_dir = tboard_log_dir)"
   ]
  },
  {
   "cell_type": "code",
   "execution_count": 3,
   "metadata": {},
   "outputs": [],
   "source": [
    "model = Sequential()"
   ]
  },
  {
   "cell_type": "code",
   "execution_count": 4,
   "metadata": {},
   "outputs": [],
   "source": [
    "model.add(Conv2D(32,(3,3), input_shape = (64,64,3)))\n",
    "model.add(Activation(\"relu\"))\n",
    "model.add(MaxPooling2D(pool_size = (2,2)))\n",
    "model.add(Dropout(0.30))"
   ]
  },
  {
   "cell_type": "code",
   "execution_count": 5,
   "metadata": {},
   "outputs": [],
   "source": [
    "model.add(Conv2D(32,(3,3)))\n",
    "model.add(Activation(\"relu\"))\n",
    "model.add(MaxPooling2D(pool_size = (2,2)))\n",
    "model.add(Dropout(0.30))"
   ]
  },
  {
   "cell_type": "code",
   "execution_count": 6,
   "metadata": {},
   "outputs": [],
   "source": [
    "model.add(Conv2D(32,(3,3)))\n",
    "model.add(Activation(\"relu\"))\n",
    "model.add(MaxPooling2D(pool_size = (2,2)))"
   ]
  },
  {
   "cell_type": "code",
   "execution_count": 7,
   "metadata": {},
   "outputs": [],
   "source": [
    "model.add(Flatten())"
   ]
  },
  {
   "cell_type": "code",
   "execution_count": 8,
   "metadata": {},
   "outputs": [],
   "source": [
    "#remove the dense layer\n",
    "#model.add(Dense(128))\n",
    "#model.add(Activation(\"relu\"))"
   ]
  },
  {
   "cell_type": "code",
   "execution_count": 9,
   "metadata": {},
   "outputs": [],
   "source": [
    "model.add(Dense(1))\n",
    "model.add(Activation(\"sigmoid\"))"
   ]
  },
  {
   "cell_type": "code",
   "execution_count": 10,
   "metadata": {},
   "outputs": [],
   "source": [
    "model.compile(loss = 'binary_crossentropy', optimizer = 'adam', metrics = ['accuracy'])"
   ]
  },
  {
   "cell_type": "code",
   "execution_count": 11,
   "metadata": {},
   "outputs": [
    {
     "name": "stderr",
     "output_type": "stream",
     "text": [
      "Using TensorFlow backend.\n"
     ]
    }
   ],
   "source": [
    "from keras.preprocessing.image import ImageDataGenerator\n",
    "\n",
    "train_datagen = ImageDataGenerator(rescale = 1./255,\n",
    "                                   shear_range = 0.2,\n",
    "                                   zoom_range = 0.2,\n",
    "                                   horizontal_flip = True)\n",
    "\n",
    "test_datagen = ImageDataGenerator(rescale = 1./255)"
   ]
  },
  {
   "cell_type": "code",
   "execution_count": 12,
   "metadata": {},
   "outputs": [
    {
     "name": "stdout",
     "output_type": "stream",
     "text": [
      "Found 22564 images belonging to 2 classes.\n",
      "Found 2513 images belonging to 2 classes.\n"
     ]
    }
   ],
   "source": [
    "training_set = train_datagen.flow_from_directory('DATASET/TRAIN',\n",
    "                                                 target_size = (64, 64),\n",
    "                                                 batch_size = 32,\n",
    "                                                 class_mode = 'binary')\n",
    "\n",
    "test_set = test_datagen.flow_from_directory('DATASET/TEST',\n",
    "                                            target_size = (64, 64),\n",
    "                                            batch_size = 32,\n",
    "                                            class_mode = 'binary')\n"
   ]
  },
  {
   "cell_type": "code",
   "execution_count": 13,
   "metadata": {},
   "outputs": [
    {
     "name": "stdout",
     "output_type": "stream",
     "text": [
      "WARNING:tensorflow:From <ipython-input-13-1f9197a6d53b>:6: Model.fit_generator (from tensorflow.python.keras.engine.training) is deprecated and will be removed in a future version.\n",
      "Instructions for updating:\n",
      "Please use Model.fit, which supports generators.\n",
      "WARNING:tensorflow:sample_weight modes were coerced from\n",
      "  ...\n",
      "    to  \n",
      "  ['...']\n",
      "WARNING:tensorflow:sample_weight modes were coerced from\n",
      "  ...\n",
      "    to  \n",
      "  ['...']\n",
      "Train for 705 steps, validate for 79 steps\n",
      "Epoch 1/15\n",
      "705/705 [==============================] - 152s 215ms/step - loss: 0.4603 - accuracy: 0.7903 - val_loss: 0.3645 - val_accuracy: 0.8699\n",
      "Epoch 2/15\n",
      "705/705 [==============================] - 161s 228ms/step - loss: 0.4135 - accuracy: 0.8185 - val_loss: 0.4102 - val_accuracy: 0.8265\n",
      "Epoch 3/15\n",
      "705/705 [==============================] - 167s 237ms/step - loss: 0.3881 - accuracy: 0.8290 - val_loss: 0.3026 - val_accuracy: 0.8854\n",
      "Epoch 4/15\n",
      "705/705 [==============================] - 158s 224ms/step - loss: 0.3718 - accuracy: 0.8401 - val_loss: 0.3517 - val_accuracy: 0.8583\n",
      "Epoch 5/15\n",
      "705/705 [==============================] - 158s 225ms/step - loss: 0.3520 - accuracy: 0.8516 - val_loss: 0.3117 - val_accuracy: 0.8834\n",
      "Epoch 6/15\n",
      "705/705 [==============================] - 163s 232ms/step - loss: 0.3491 - accuracy: 0.8524 - val_loss: 0.2858 - val_accuracy: 0.8882\n",
      "Epoch 7/15\n",
      "705/705 [==============================] - 147s 209ms/step - loss: 0.3407 - accuracy: 0.8566 - val_loss: 0.2904 - val_accuracy: 0.8862\n",
      "Epoch 8/15\n",
      "705/705 [==============================] - 137s 194ms/step - loss: 0.3361 - accuracy: 0.8600 - val_loss: 0.2973 - val_accuracy: 0.8858\n",
      "Epoch 9/15\n",
      "705/705 [==============================] - 152s 216ms/step - loss: 0.3335 - accuracy: 0.8602 - val_loss: 0.2876 - val_accuracy: 0.8953\n",
      "Epoch 10/15\n",
      "705/705 [==============================] - 178s 252ms/step - loss: 0.3239 - accuracy: 0.8642 - val_loss: 0.2962 - val_accuracy: 0.8838\n",
      "Epoch 11/15\n",
      "705/705 [==============================] - 139s 198ms/step - loss: 0.3211 - accuracy: 0.8667 - val_loss: 0.2668 - val_accuracy: 0.8949\n",
      "Epoch 12/15\n",
      "705/705 [==============================] - 137s 194ms/step - loss: 0.3137 - accuracy: 0.8697 - val_loss: 0.2752 - val_accuracy: 0.9001\n",
      "Epoch 13/15\n",
      "705/705 [==============================] - 130s 185ms/step - loss: 0.3145 - accuracy: 0.8686 - val_loss: 0.2968 - val_accuracy: 0.8922\n",
      "Epoch 14/15\n",
      "705/705 [==============================] - 137s 194ms/step - loss: 0.3087 - accuracy: 0.8719 - val_loss: 0.2586 - val_accuracy: 0.9017\n",
      "Epoch 15/15\n",
      "705/705 [==============================] - 138s 196ms/step - loss: 0.3077 - accuracy: 0.8739 - val_loss: 0.2815 - val_accuracy: 0.8886\n"
     ]
    }
   ],
   "source": [
    "history = model.fit_generator(training_set,\n",
    "                    steps_per_epoch = 705 ,\n",
    "                    epochs = 15,\n",
    "                    validation_data = test_set,\n",
    "                    validation_steps = 79,\n",
    "                    callbacks = [tensorboard])"
   ]
  },
  {
   "cell_type": "code",
   "execution_count": 1,
   "metadata": {},
   "outputs": [],
   "source": [
    "#history = model.fit_generator(training_set,\n",
    "#                    steps_per_epoch = 705 ,\n",
    "#                    epochs = 10,\n",
    " ##                   validation_data = test_set,\n",
    "  #                  validation_steps = 79,\n",
    "    #                callbacks = [tensorboard])"
   ]
  },
  {
   "cell_type": "code",
   "execution_count": null,
   "metadata": {},
   "outputs": [],
   "source": []
  }
 ],
 "metadata": {
  "kernelspec": {
   "display_name": "Python 3",
   "language": "python",
   "name": "python3"
  },
  "language_info": {
   "codemirror_mode": {
    "name": "ipython",
    "version": 3
   },
   "file_extension": ".py",
   "mimetype": "text/x-python",
   "name": "python",
   "nbconvert_exporter": "python",
   "pygments_lexer": "ipython3",
   "version": "3.7.1"
  }
 },
 "nbformat": 4,
 "nbformat_minor": 2
}
