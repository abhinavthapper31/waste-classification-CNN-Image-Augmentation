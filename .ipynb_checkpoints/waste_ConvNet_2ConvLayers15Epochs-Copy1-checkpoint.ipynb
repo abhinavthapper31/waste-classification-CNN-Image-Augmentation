{
 "cells": [
  {
   "cell_type": "code",
   "execution_count": 1,
   "metadata": {},
   "outputs": [],
   "source": [
    "import tensorflow as tf\n",
    "from tensorflow.keras.models import Sequential\n",
    "from tensorflow.keras.layers import Conv2D, Flatten, Activation\n",
    "from tensorflow.keras.layers import MaxPooling2D, Dropout\n",
    "from tensorflow.keras.layers import Dense\n",
    "from tensorflow.keras.callbacks import TensorBoard\n",
    "import os"
   ]
  },
  {
   "cell_type": "code",
   "execution_count": 2,
   "metadata": {},
   "outputs": [],
   "source": [
    "NAME = \"waste_ConvNet_2ConvLayers15Epochs\"\n",
    "\n",
    "tboard_log_dir = os.path.join(\"logs\",NAME)\n",
    "tensorboard = TensorBoard(log_dir = tboard_log_dir)"
   ]
  },
  {
   "cell_type": "code",
   "execution_count": 3,
   "metadata": {},
   "outputs": [],
   "source": [
    "model = Sequential()"
   ]
  },
  {
   "cell_type": "code",
   "execution_count": 4,
   "metadata": {},
   "outputs": [],
   "source": [
    "model.add(Conv2D(32,(3,3), input_shape = (64,64,3)))\n",
    "model.add(Activation(\"relu\"))\n",
    "model.add(MaxPooling2D(pool_size = (2,2)))"
   ]
  },
  {
   "cell_type": "code",
   "execution_count": 5,
   "metadata": {},
   "outputs": [],
   "source": [
    "model.add(Conv2D(32,(3,3)))\n",
    "model.add(Activation(\"relu\"))\n",
    "model.add(MaxPooling2D(pool_size = (2,2)))\n"
   ]
  },
  {
   "cell_type": "code",
   "execution_count": 6,
   "metadata": {},
   "outputs": [],
   "source": [
    "model.add(Flatten())"
   ]
  },
  {
   "cell_type": "code",
   "execution_count": 7,
   "metadata": {},
   "outputs": [],
   "source": [
    "model.add(Dense(128))\n",
    "model.add(Activation(\"relu\"))"
   ]
  },
  {
   "cell_type": "code",
   "execution_count": 8,
   "metadata": {},
   "outputs": [],
   "source": [
    "model.add(Dense(1))\n",
    "model.add(Activation(\"sigmoid\"))"
   ]
  },
  {
   "cell_type": "code",
   "execution_count": 9,
   "metadata": {},
   "outputs": [],
   "source": [
    "model.compile(loss = 'binary_crossentropy', optimizer = 'adam', metrics = ['accuracy'])"
   ]
  },
  {
   "cell_type": "code",
   "execution_count": 10,
   "metadata": {},
   "outputs": [
    {
     "name": "stderr",
     "output_type": "stream",
     "text": [
      "Using TensorFlow backend.\n"
     ]
    }
   ],
   "source": [
    "from keras.preprocessing.image import ImageDataGenerator\n",
    "\n",
    "train_datagen = ImageDataGenerator(rescale = 1./255,\n",
    "                                   shear_range = 0.2,\n",
    "                                   zoom_range = 0.2,\n",
    "                                   horizontal_flip = True)\n",
    "\n",
    "test_datagen = ImageDataGenerator(rescale = 1./255)"
   ]
  },
  {
   "cell_type": "code",
   "execution_count": 11,
   "metadata": {},
   "outputs": [
    {
     "name": "stdout",
     "output_type": "stream",
     "text": [
      "Found 22564 images belonging to 2 classes.\n",
      "Found 2513 images belonging to 2 classes.\n"
     ]
    }
   ],
   "source": [
    "training_set = train_datagen.flow_from_directory('DATASET/TRAIN',\n",
    "                                                 target_size = (64, 64),\n",
    "                                                 batch_size = 32,\n",
    "                                                 class_mode = 'binary')\n",
    "\n",
    "test_set = test_datagen.flow_from_directory('DATASET/TEST',\n",
    "                                            target_size = (64, 64),\n",
    "                                            batch_size = 32,\n",
    "                                            class_mode = 'binary')\n"
   ]
  },
  {
   "cell_type": "code",
   "execution_count": 12,
   "metadata": {},
   "outputs": [
    {
     "name": "stdout",
     "output_type": "stream",
     "text": [
      "WARNING:tensorflow:From <ipython-input-12-1f9197a6d53b>:6: Model.fit_generator (from tensorflow.python.keras.engine.training) is deprecated and will be removed in a future version.\n",
      "Instructions for updating:\n",
      "Please use Model.fit, which supports generators.\n",
      "WARNING:tensorflow:sample_weight modes were coerced from\n",
      "  ...\n",
      "    to  \n",
      "  ['...']\n",
      "WARNING:tensorflow:sample_weight modes were coerced from\n",
      "  ...\n",
      "    to  \n",
      "  ['...']\n",
      "Train for 705 steps, validate for 79 steps\n",
      "Epoch 1/15\n",
      "705/705 [==============================] - 129s 182ms/step - loss: 0.4292 - accuracy: 0.8098 - val_loss: 0.3539 - val_accuracy: 0.8607\n",
      "Epoch 2/15\n",
      "705/705 [==============================] - 117s 165ms/step - loss: 0.3844 - accuracy: 0.8321 - val_loss: 0.2868 - val_accuracy: 0.8910\n",
      "Epoch 3/15\n",
      "705/705 [==============================] - 131s 186ms/step - loss: 0.3587 - accuracy: 0.8456 - val_loss: 0.2818 - val_accuracy: 0.8957\n",
      "Epoch 4/15\n",
      "705/705 [==============================] - 151s 215ms/step - loss: 0.3482 - accuracy: 0.8520 - val_loss: 0.2425 - val_accuracy: 0.9077\n",
      "Epoch 5/15\n",
      "705/705 [==============================] - 152s 215ms/step - loss: 0.3298 - accuracy: 0.8609 - val_loss: 0.2596 - val_accuracy: 0.8977\n",
      "Epoch 6/15\n",
      "705/705 [==============================] - 150s 212ms/step - loss: 0.3239 - accuracy: 0.8645 - val_loss: 0.2856 - val_accuracy: 0.8806\n",
      "Epoch 7/15\n",
      "705/705 [==============================] - 147s 208ms/step - loss: 0.3101 - accuracy: 0.8710 - val_loss: 0.2916 - val_accuracy: 0.8890\n",
      "Epoch 8/15\n",
      "705/705 [==============================] - 126s 179ms/step - loss: 0.3047 - accuracy: 0.8720 - val_loss: 0.2785 - val_accuracy: 0.8981\n",
      "Epoch 9/15\n",
      "705/705 [==============================] - 125s 177ms/step - loss: 0.2998 - accuracy: 0.8765 - val_loss: 0.3232 - val_accuracy: 0.8687\n",
      "Epoch 10/15\n",
      "705/705 [==============================] - 122s 174ms/step - loss: 0.2881 - accuracy: 0.8815 - val_loss: 0.2737 - val_accuracy: 0.8977\n",
      "Epoch 11/15\n",
      "705/705 [==============================] - 122s 173ms/step - loss: 0.2789 - accuracy: 0.8859 - val_loss: 0.3090 - val_accuracy: 0.8794\n",
      "Epoch 12/15\n",
      "705/705 [==============================] - 124s 176ms/step - loss: 0.2715 - accuracy: 0.8901 - val_loss: 0.3211 - val_accuracy: 0.8750\n",
      "Epoch 13/15\n",
      "705/705 [==============================] - 124s 175ms/step - loss: 0.2669 - accuracy: 0.8899 - val_loss: 0.3069 - val_accuracy: 0.8806\n",
      "Epoch 14/15\n",
      "705/705 [==============================] - 128s 182ms/step - loss: 0.2579 - accuracy: 0.8957 - val_loss: 0.2865 - val_accuracy: 0.8942\n",
      "Epoch 15/15\n",
      "705/705 [==============================] - 129s 183ms/step - loss: 0.2496 - accuracy: 0.8987 - val_loss: 0.3027 - val_accuracy: 0.8830\n"
     ]
    }
   ],
   "source": [
    "history = model.fit_generator(training_set,\n",
    "                    steps_per_epoch = 705 ,\n",
    "                    epochs = 15,\n",
    "                    validation_data = test_set,\n",
    "                    validation_steps = 79,\n",
    "                    callbacks = [tensorboard])"
   ]
  },
  {
   "cell_type": "code",
   "execution_count": 31,
   "metadata": {},
   "outputs": [],
   "source": [
    "#history = model.fit_generator(training_set,\n",
    "#                    steps_per_epoch = 705 ,\n",
    "#                    epochs = 10,\n",
    " ##                   validation_data = test_set,\n",
    "  #                  validation_steps = 79,\n",
    "    #                callbacks = [tensorboard])"
   ]
  },
  {
   "cell_type": "code",
   "execution_count": null,
   "metadata": {},
   "outputs": [],
   "source": []
  }
 ],
 "metadata": {
  "kernelspec": {
   "display_name": "Python 3",
   "language": "python",
   "name": "python3"
  },
  "language_info": {
   "codemirror_mode": {
    "name": "ipython",
    "version": 3
   },
   "file_extension": ".py",
   "mimetype": "text/x-python",
   "name": "python",
   "nbconvert_exporter": "python",
   "pygments_lexer": "ipython3",
   "version": "3.7.1"
  }
 },
 "nbformat": 4,
 "nbformat_minor": 2
}
