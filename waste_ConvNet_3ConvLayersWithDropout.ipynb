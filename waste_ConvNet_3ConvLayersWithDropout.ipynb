{
 "cells": [
  {
   "cell_type": "code",
   "execution_count": 15,
   "metadata": {},
   "outputs": [],
   "source": [
    "#importing libraries\n",
    "import tensorflow as tf\n",
    "from tensorflow.keras.models import Sequential\n",
    "from tensorflow.keras.layers import Conv2D, Flatten, Activation\n",
    "from tensorflow.keras.layers import MaxPooling2D, Dropout\n",
    "from tensorflow.keras.layers import Dense\n",
    "from tensorflow.keras.callbacks import TensorBoard\n",
    "from keras.preprocessing.image import ImageDataGenerator\n",
    "from keras.preprocessing import image\n",
    "from PIL import Image\n",
    "import numpy as np\n",
    "import os\n",
    "import time"
   ]
  },
  {
   "cell_type": "code",
   "execution_count": 2,
   "metadata": {},
   "outputs": [],
   "source": [
    "#making directory for tensorboard\n",
    "NAME = \"waste_ConvNet_3ConvLayersWithDropout\"\n",
    "\n",
    "tboard_log_dir = os.path.join(\"logs\",NAME)\n",
    "tensorboard = TensorBoard(log_dir = tboard_log_dir)"
   ]
  },
  {
   "cell_type": "markdown",
   "metadata": {},
   "source": [
    "MODEL CONSTRUCTION"
   ]
  },
  {
   "cell_type": "code",
   "execution_count": 3,
   "metadata": {},
   "outputs": [],
   "source": [
    "model = Sequential()"
   ]
  },
  {
   "cell_type": "code",
   "execution_count": 4,
   "metadata": {},
   "outputs": [],
   "source": [
    "# First Convolution Layer\n",
    "model.add(Conv2D(32,(3,3), input_shape = (64,64,3)))\n",
    "model.add(Activation(\"relu\"))\n",
    "model.add(MaxPooling2D(pool_size = (2,2)))\n",
    "model.add(Dropout(0.4))"
   ]
  },
  {
   "cell_type": "code",
   "execution_count": 5,
   "metadata": {},
   "outputs": [],
   "source": [
    "# Second Convolution Layer\n",
    "model.add(Conv2D(32,(3,3)))\n",
    "model.add(Activation(\"relu\"))\n",
    "model.add(MaxPooling2D(pool_size = (2,2)))\n",
    "model.add(Dropout(0.4))"
   ]
  },
  {
   "cell_type": "code",
   "execution_count": 6,
   "metadata": {},
   "outputs": [],
   "source": [
    "# Third Convolution Layer\n",
    "model.add(Conv2D(32,(3,3)))\n",
    "model.add(Activation(\"relu\"))\n",
    "model.add(MaxPooling2D(pool_size = (2,2)))"
   ]
  },
  {
   "cell_type": "code",
   "execution_count": 7,
   "metadata": {},
   "outputs": [],
   "source": [
    "model.add(Flatten())"
   ]
  },
  {
   "cell_type": "code",
   "execution_count": 8,
   "metadata": {},
   "outputs": [],
   "source": [
    "# Dense Layer to accept Flattened array\n",
    "model.add(Dense(128))\n",
    "model.add(Activation(\"relu\"))"
   ]
  },
  {
   "cell_type": "code",
   "execution_count": 9,
   "metadata": {},
   "outputs": [],
   "source": [
    "# Output Dense Layer to predict Recyclable or Organic\n",
    "model.add(Dense(1))\n",
    "model.add(Activation(\"sigmoid\"))"
   ]
  },
  {
   "cell_type": "code",
   "execution_count": 10,
   "metadata": {},
   "outputs": [],
   "source": [
    "# HyperParameters\n",
    "model.compile(loss = 'binary_crossentropy', optimizer = 'adam', metrics = ['accuracy'])"
   ]
  },
  {
   "cell_type": "code",
   "execution_count": 11,
   "metadata": {},
   "outputs": [
    {
     "name": "stderr",
     "output_type": "stream",
     "text": [
      "Using TensorFlow backend.\n"
     ]
    }
   ],
   "source": [
    "# Applying Image Augmentation\n",
    "train_datagen = ImageDataGenerator(rescale = 1./255,\n",
    "                                   shear_range = 0.2,\n",
    "                                   zoom_range = 0.2,\n",
    "                                   horizontal_flip = True)\n",
    "\n",
    "test_datagen = ImageDataGenerator(rescale = 1./255)"
   ]
  },
  {
   "cell_type": "code",
   "execution_count": 12,
   "metadata": {},
   "outputs": [
    {
     "name": "stdout",
     "output_type": "stream",
     "text": [
      "Found 22564 images belonging to 2 classes.\n",
      "Found 2513 images belonging to 2 classes.\n"
     ]
    }
   ],
   "source": [
    "# Creating test and train sets\n",
    "training_set = train_datagen.flow_from_directory('DATASET/TRAIN',\n",
    "                                                 target_size = (64, 64),\n",
    "                                                 batch_size = 32,\n",
    "                                                 class_mode = 'binary')\n",
    "\n",
    "test_set = test_datagen.flow_from_directory('DATASET/TEST',\n",
    "                                            target_size = (64, 64),\n",
    "                                            batch_size = 32,\n",
    "                                            class_mode = 'binary')\n"
   ]
  },
  {
   "cell_type": "code",
   "execution_count": 13,
   "metadata": {},
   "outputs": [
    {
     "name": "stdout",
     "output_type": "stream",
     "text": [
      "WARNING:tensorflow:From <ipython-input-13-1f9197a6d53b>:6: Model.fit_generator (from tensorflow.python.keras.engine.training) is deprecated and will be removed in a future version.\n",
      "Instructions for updating:\n",
      "Please use Model.fit, which supports generators.\n",
      "WARNING:tensorflow:sample_weight modes were coerced from\n",
      "  ...\n",
      "    to  \n",
      "  ['...']\n",
      "WARNING:tensorflow:sample_weight modes were coerced from\n",
      "  ...\n",
      "    to  \n",
      "  ['...']\n",
      "Train for 705 steps, validate for 79 steps\n",
      "Epoch 1/15\n",
      "705/705 [==============================] - 152s 215ms/step - loss: 0.4633 - accuracy: 0.7892 - val_loss: 0.3664 - val_accuracy: 0.8822\n",
      "Epoch 2/15\n",
      "705/705 [==============================] - 130s 184ms/step - loss: 0.4052 - accuracy: 0.8252 - val_loss: 0.3486 - val_accuracy: 0.8735\n",
      "Epoch 3/15\n",
      "705/705 [==============================] - 135s 191ms/step - loss: 0.3842 - accuracy: 0.8337 - val_loss: 0.3655 - val_accuracy: 0.8563\n",
      "Epoch 4/15\n",
      "705/705 [==============================] - 144s 205ms/step - loss: 0.3663 - accuracy: 0.8453 - val_loss: 0.3037 - val_accuracy: 0.8766\n",
      "Epoch 5/15\n",
      "705/705 [==============================] - 145s 205ms/step - loss: 0.3535 - accuracy: 0.8491 - val_loss: 0.2835 - val_accuracy: 0.8914\n",
      "Epoch 6/15\n",
      "705/705 [==============================] - 129s 184ms/step - loss: 0.3470 - accuracy: 0.8547 - val_loss: 0.2769 - val_accuracy: 0.8934\n",
      "Epoch 7/15\n",
      "705/705 [==============================] - 132s 187ms/step - loss: 0.3441 - accuracy: 0.8570 - val_loss: 0.2809 - val_accuracy: 0.8938\n",
      "Epoch 8/15\n",
      "705/705 [==============================] - 130s 185ms/step - loss: 0.3340 - accuracy: 0.8612 - val_loss: 0.2564 - val_accuracy: 0.8957\n",
      "Epoch 9/15\n",
      "705/705 [==============================] - 135s 192ms/step - loss: 0.3318 - accuracy: 0.8615 - val_loss: 0.2628 - val_accuracy: 0.9029\n",
      "Epoch 10/15\n",
      "705/705 [==============================] - 131s 185ms/step - loss: 0.3271 - accuracy: 0.8641 - val_loss: 0.3220 - val_accuracy: 0.8647\n",
      "Epoch 11/15\n",
      "705/705 [==============================] - 130s 185ms/step - loss: 0.3212 - accuracy: 0.8672 - val_loss: 0.2415 - val_accuracy: 0.9101\n",
      "Epoch 12/15\n",
      "705/705 [==============================] - 134s 190ms/step - loss: 0.3128 - accuracy: 0.8699 - val_loss: 0.2814 - val_accuracy: 0.8910\n",
      "Epoch 13/15\n",
      "705/705 [==============================] - 128s 182ms/step - loss: 0.3124 - accuracy: 0.8721 - val_loss: 0.2608 - val_accuracy: 0.9073\n",
      "Epoch 14/15\n",
      "705/705 [==============================] - 130s 185ms/step - loss: 0.3074 - accuracy: 0.8740 - val_loss: 0.2695 - val_accuracy: 0.8910\n",
      "Epoch 15/15\n",
      "705/705 [==============================] - 126s 179ms/step - loss: 0.3038 - accuracy: 0.8749 - val_loss: 0.2806 - val_accuracy: 0.9025\n"
     ]
    }
   ],
   "source": [
    "# Training\n",
    "# steps per epoch is 705 as result of training instance/batch size = 22564/32 ~ 706 same reasoning for validation_steps(2513/32)\n",
    "history = model.fit_generator(training_set,\n",
    "                    steps_per_epoch = 705 ,\n",
    "                    epochs = 15,\n",
    "                    validation_data = test_set,\n",
    "                    validation_steps = 79,\n",
    "                    callbacks = [tensorboard])"
   ]
  },
  {
   "cell_type": "code",
   "execution_count": 14,
   "metadata": {},
   "outputs": [
    {
     "name": "stdout",
     "output_type": "stream",
     "text": [
      "WARNING:tensorflow:From C:\\Users\\hp\\Anaconda3\\lib\\site-packages\\tensorflow_core\\python\\ops\\resource_variable_ops.py:1786: calling BaseResourceVariable.__init__ (from tensorflow.python.ops.resource_variable_ops) with constraint is deprecated and will be removed in a future version.\n",
      "Instructions for updating:\n",
      "If using Keras pass *_constraint arguments to layers.\n",
      "INFO:tensorflow:Assets written to: 3ConVLayerWithDropoutRegularization\\assets\n"
     ]
    }
   ],
   "source": [
    "# Saving the model\n",
    "model.save('3ConVLayerWithDropoutRegularization')"
   ]
  },
  {
   "cell_type": "markdown",
   "metadata": {},
   "source": [
    "Sample Testing"
   ]
  },
  {
   "cell_type": "code",
   "execution_count": 49,
   "metadata": {},
   "outputs": [],
   "source": [
    "test_image = image.load_img('DATASET/TEST/Recyclable/R_10840.jpg',\n",
    "                            target_size = (64, 64))"
   ]
  },
  {
   "cell_type": "code",
   "execution_count": 50,
   "metadata": {},
   "outputs": [
    {
     "data": {
      "image/png": "[encoded data removed]",
      "text/plain": [
       "<PIL.Image.Image image mode=RGB size=64x64 at 0x2195D1EFCC0>"
      ]
     },
     "execution_count": 50,
     "metadata": {},
     "output_type": "execute_result"
    }
   ],
   "source": [
    "test_image"
   ]
  },
  {
   "cell_type": "code",
   "execution_count": 51,
   "metadata": {},
   "outputs": [],
   "source": [
    "test_image = image.img_to_array(test_image)\n",
    "test_image = np.expand_dims(test_image, axis = 0)\n",
    "result = model.predict(test_image)"
   ]
  },
  {
   "cell_type": "code",
   "execution_count": 55,
   "metadata": {},
   "outputs": [
    {
     "data": {
      "text/plain": [
       "array([[1.]], dtype=float32)"
      ]
     },
     "execution_count": 55,
     "metadata": {},
     "output_type": "execute_result"
    }
   ],
   "source": [
    "result"
   ]
  },
  {
   "cell_type": "code",
   "execution_count": 52,
   "metadata": {},
   "outputs": [
    {
     "data": {
      "text/plain": [
       "{'Organic': 0, 'Recyclable': 1}"
      ]
     },
     "execution_count": 52,
     "metadata": {},
     "output_type": "execute_result"
    }
   ],
   "source": [
    "training_set.class_indices\n"
   ]
  },
  {
   "cell_type": "code",
   "execution_count": 53,
   "metadata": {},
   "outputs": [],
   "source": [
    "if result[0][0] == 1:\n",
    "    prediction = 'Recyclable'\n",
    "else:\n",
    "    prediction = 'Organic'"
   ]
  },
  {
   "cell_type": "code",
   "execution_count": 54,
   "metadata": {},
   "outputs": [
    {
     "data": {
      "text/plain": [
       "'Recyclable'"
      ]
     },
     "execution_count": 54,
     "metadata": {},
     "output_type": "execute_result"
    }
   ],
   "source": [
    "prediction"
   ]
  },
  {
   "cell_type": "code",
   "execution_count": null,
   "metadata": {},
   "outputs": [],
   "source": []
  }
 ],
 "metadata": {
  "kernelspec": {
   "display_name": "Python 3",
   "language": "python",
   "name": "python3"
  },
  "language_info": {
   "codemirror_mode": {
    "name": "ipython",
    "version": 3
   },
   "file_extension": ".py",
   "mimetype": "text/x-python",
   "name": "python",
   "nbconvert_exporter": "python",
   "pygments_lexer": "ipython3",
   "version": "3.7.1"
  }
 },
 "nbformat": 4,
 "nbformat_minor": 2
}
